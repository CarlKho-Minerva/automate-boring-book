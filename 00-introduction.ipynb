{
 "cells": [
  {
   "cell_type": "markdown",
   "metadata": {},
   "source": [
    "#### You will learn the basics of programming so that you can automate simple tasks such as these:\n",
    "\n",
    "- Moving and renaming thousands of files and sorting them into folders\n",
    "- Filling out online forms—no typing required\n",
    "- Downloading files or copying text from a website whenever it updates\n",
    "- Having your computer text you custom notifications\n",
    "- Updating or formatting Excel spreadsheets\n",
    "- Checking your email and sending out prewritten responses"
   ]
  },
  {
   "cell_type": "markdown",
   "metadata": {},
   "source": [
    "## Gist\n",
    "\n",
    "Instantly share code, notes, and snippets with Github's [Gist](\"https://gist.github.com/\")\n"
   ]
  }
 ],
 "metadata": {
  "language_info": {
   "name": "python"
  }
 },
 "nbformat": 4,
 "nbformat_minor": 2
}
