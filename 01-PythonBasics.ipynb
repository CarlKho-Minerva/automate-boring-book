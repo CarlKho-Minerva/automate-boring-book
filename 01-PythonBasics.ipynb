{
 "cells": [
  {
   "cell_type": "markdown",
   "metadata": {},
   "source": [
    "| Operator | Operation                        | Example       | Evaluates to . . . |\n",
    "|----------|----------------------------------|---------------|--------------------|\n",
    "| **       | Exponent                         | 2 ** 3        | 8                  |\n",
    "| %        | Modulus/remainder                | 22 % 8        | 6                  |\n",
    "| //       | Integer division/floored quotient| 22 // 8       | 2                  |\n",
    "| /        | Division                         | 22 / 8        | 2.75               |\n",
    "| *        | Multiplication                   | 3 * 5         | 15                 |\n",
    "| -        | Subtraction                      | 5 - 2         | 3                  |\n",
    "| +        | Addition                         | 2 + 2         | 4                  |\n",
    "\n",
    "\n",
    "Table 1-1: Math Operators from Highest to Lowest Precedence"
   ]
  },
  {
   "cell_type": "markdown",
   "metadata": {},
   "source": []
  },
  {
   "cell_type": "code",
   "execution_count": 2,
   "metadata": {},
   "outputs": [
    {
     "data": {
      "text/plain": [
       "'Alive staying'"
      ]
     },
     "execution_count": 2,
     "metadata": {},
     "output_type": "execute_result"
    }
   ],
   "source": [
    "'Alive ' + 'staying'"
   ]
  },
  {
   "cell_type": "code",
   "execution_count": 3,
   "metadata": {},
   "outputs": [
    {
     "data": {
      "text/plain": [
       "'_____________________________________________________________________________________________________________________________'"
      ]
     },
     "execution_count": 3,
     "metadata": {},
     "output_type": "execute_result"
    }
   ],
   "source": [
    "\"_____\"*25"
   ]
  },
  {
   "cell_type": "markdown",
   "metadata": {},
   "source": [
    "You can name a variable anything as long as it obeys the following three rules:\n",
    "\n",
    "1. It can be only one word with no spaces.\n",
    "2. It can use only letters, numbers, and the underscore (\\_) character.\n",
    "3. It can't begin with a number.\n",
    "\n",
    "Table 1-3: Valid and Invalid Variable Names\n",
    "\n",
    "| Valid variable names | Invalid variable names |\n",
    "|-----------------------|-------------------------|\n",
    "| current_balance      | current-balance         |\n",
    "| currentBalance       | current balance         |\n",
    "| account4             | 4account                |\n",
    "| _42                  | 42                      |\n",
    "| TOTAL_SUM            | TOTAL_$UM               |\n",
    "| hello                | 'hello'                 |\n"
   ]
  },
  {
   "cell_type": "code",
   "execution_count": 19,
   "metadata": {},
   "outputs": [
    {
     "name": "stdout",
     "output_type": "stream",
     "text": [
      "Hello World\n",
      "What is your name?\n",
      "It is good to meet you, 21\n",
      "The length of your name is 2\n",
      ":D\n",
      "You didn't fucking ask though.\n",
      "LOL.\n",
      "how old are you?\n",
      "Wow - 21?! You're fucking old!\n",
      "You'll be 22 in a year.\n"
     ]
    }
   ],
   "source": [
    "import time\n",
    "import asyncio\n",
    "\n",
    "print(\"Hello World\")\n",
    "time.sleep(1)\n",
    "print(\"What is your name?\")\n",
    "\n",
    "myName = input()\n",
    "print(f\"It is good to meet you, {myName}\")\n",
    "\n",
    "# Unsolicited information\n",
    "time.sleep(1)\n",
    "print(f\"The length of your name is {len(myName)}\")\n",
    "time.sleep(1)\n",
    "print(f\":D\")\n",
    "time.sleep(1)\n",
    "print(f\"You didn't fucking ask though.\")\n",
    "print(f\"LOL.\")\n",
    "time.sleep(1)\n",
    "\n",
    "print(f\"how old are you?\")\n",
    "myAge = input()\n",
    "print(f\"Wow - {myAge}?! You're fucking old!\")\n",
    "print(f\"You'll be {str(int(myAge) +1)} in a year.\")"
   ]
  },
  {
   "cell_type": "code",
   "execution_count": null,
   "metadata": {},
   "outputs": [],
   "source": []
  }
 ],
 "metadata": {
  "kernelspec": {
   "display_name": "Python 3",
   "language": "python",
   "name": "python3"
  },
  "language_info": {
   "codemirror_mode": {
    "name": "ipython",
    "version": 3
   },
   "file_extension": ".py",
   "mimetype": "text/x-python",
   "name": "python",
   "nbconvert_exporter": "python",
   "pygments_lexer": "ipython3",
   "version": "3.11.4"
  }
 },
 "nbformat": 4,
 "nbformat_minor": 2
}
